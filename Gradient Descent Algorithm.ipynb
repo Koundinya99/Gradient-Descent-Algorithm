{
 "cells": [
  {
   "cell_type": "markdown",
   "metadata": {},
   "source": [
    "**Gradient Descent Algorithm**"
   ]
  },
  {
   "cell_type": "code",
   "execution_count": 64,
   "metadata": {},
   "outputs": [],
   "source": [
    "import numpy as np\n",
    "import pandas as pd\n",
    "import matplotlib.pyplot as plt"
   ]
  },
  {
   "cell_type": "code",
   "execution_count": 67,
   "metadata": {},
   "outputs": [
    {
     "name": "stdout",
     "output_type": "stream",
     "text": [
      "Iteration: 0, Cost Function: 56.02000000000001 Slope: 0.1492, Intercept: 0.11280000000000001\n",
      "\n",
      "Iteration: 1, Cost Function: 53.46608944 Slope: 0.1972408, Intercept: 0.1252792\n",
      "\n",
      "Iteration: 2, Cost Function: 51.03158044077185 Slope: 0.2441498272, Intercept: 0.1374451968\n",
      "\n",
      "Iteration: 3, Cost Function: 48.71088933687222 Slope: 0.2899538598208, Intercept: 0.1493054074432\n",
      "\n",
      "Iteration: 4, Cost Function: 46.49869357693908 Slope: 0.33467904246008323, Intercept: 0.1608670734693888\n",
      "\n",
      "Iteration: 5, Cost Function: 44.38991951297311 Slope: 0.3783509010851451, Intercept: 0.17213726506768953\n",
      "\n",
      "Iteration: 6, Cost Function: 42.37973076064037 Slope: 0.42099435767086574, Intercept: 0.18312288513104327\n",
      "\n",
      "Iteration: 7, Cost Function: 40.46351710389274 Slope: 0.46263374449132044, Intercept: 0.193830673214756\n",
      "\n",
      "Iteration: 8, Cost Function: 38.63688391845191 Slope: 0.5032928180732229, Intercept: 0.20426720940137857\n",
      "\n",
      "Iteration: 9, Cost Function: 36.895642089892675 Slope: 0.5429947728192037, Intercept: 0.21443891807413648\n",
      "\n"
     ]
    }
   ],
   "source": [
    "def Gradient_Descent():\n",
    "    #initializing slope and intercept\n",
    "    m0=0.1\n",
    "    c=0.1\n",
    "    #Learning Rate\n",
    "    LR=0.001\n",
    "    #No. of iterations\n",
    "    epoch=10\n",
    "    for i in range(epoch):\n",
    "        y_pred= m0*X+c\n",
    "        cost=(1/len(X))*(sum((Y-y_pred)**2))\n",
    "        m_error=-(2/len(X))*sum(X*(Y-y_pred))\n",
    "        b_error=-(2/len(X))*sum(Y-y_pred)\n",
    "        m0=m0-LR*m_error\n",
    "        c=c-LR*b_error\n",
    "        print(f'Iteration: {i}, Cost Function: {cost} Slope: {m0}, Intercept: {c}\\n')\n",
    "        #pd.set_option('display.max_rows',None)\n",
    "        \n",
    "        \n",
    "X=np.array([1,2,3,4,5])\n",
    "Y=np.array([2,3,7,9,13])\n",
    "Gradient_Descent()"
   ]
  }
 ],
 "metadata": {
  "kernelspec": {
   "display_name": "Python 3",
   "language": "python",
   "name": "python3"
  },
  "language_info": {
   "codemirror_mode": {
    "name": "ipython",
    "version": 3
   },
   "file_extension": ".py",
   "mimetype": "text/x-python",
   "name": "python",
   "nbconvert_exporter": "python",
   "pygments_lexer": "ipython3",
   "version": "3.7.4"
  }
 },
 "nbformat": 4,
 "nbformat_minor": 2
}
